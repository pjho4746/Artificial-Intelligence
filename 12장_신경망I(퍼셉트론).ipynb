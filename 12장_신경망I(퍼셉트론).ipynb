{
  "nbformat": 4,
  "nbformat_minor": 0,
  "metadata": {
    "colab": {
      "provenance": [],
      "authorship_tag": "ABX9TyMBHhpxMjCP5JZ4MeyJ8NLf"
    },
    "kernelspec": {
      "name": "python3",
      "display_name": "Python 3"
    },
    "language_info": {
      "name": "python"
    }
  },
  "cells": [
    {
      "cell_type": "code",
      "execution_count": null,
      "metadata": {
        "colab": {
          "base_uri": "https://localhost:8080/"
        },
        "id": "QdfMLU96YvoG",
        "outputId": "bdbe4ad5-f150-4aaf-b6d3-31998025edf6"
      },
      "outputs": [
        {
          "output_type": "stream",
          "name": "stdout",
          "text": [
            "[0 0 0 1]\n"
          ]
        }
      ],
      "source": [
        "from sklearn.linear_model import Perceptron\n",
        "\n",
        "# 샘플과 레이블이다.\n",
        "X = [[0,0],[0,1],[1,0],[1,1]]\n",
        "y = [0, 0, 0, 1]\n",
        "\n",
        "# 퍼셉트론을 생성한다. tol는 종료 조건이다. random_state는 난수의 시드이다.\n",
        "clf = Perceptron(tol=1e-3, random_state=0)\n",
        "\n",
        "# 학습을 수행한다.\n",
        "clf.fit(X, y)\n",
        "\n",
        "# 테스트를 수행한다.\n",
        "print(clf.predict(X))"
      ]
    },
    {
      "cell_type": "code",
      "source": [
        "# 뉴론의 출력 계산 함수\n",
        "def calculate(input):\n",
        "  global weights\n",
        "  global bias\n",
        "  activation = bias # 바이어스\n",
        "  for i in range(2): # 입력신호 총합 계산\n",
        "    activation += weights[i] * input[i]\n",
        "  if activation >= 0.0: # 스텝 활성화 함수\n",
        "    return 1.0\n",
        "  else:\n",
        "    return 0.0\n",
        "\n",
        "# 학습 알고리즘\n",
        "def train_weights(X, y, l_rate, n_epoch):\n",
        "    global weights\n",
        "    global bias\n",
        "    for epoch in range(n_epoch): # 에포크 반복\n",
        "      sum_error = 0.0\n",
        "      for row, target in zip(X, y): # 데이터셋을 반복\n",
        "        actual = calculate(row) # 실제 출력 계산\n",
        "        error = target - actual # 실제 출력 계산\n",
        "        bias = bias + l_rate * error\n",
        "        sum_error += error**2 # 오류의 제곱 계산\n",
        "        for i in range(2):\n",
        "          weights[i] = weights[i] + l_rate * error * row[i]\n",
        "        print(weights, bias)\n",
        "      print('에포크 번호=%d, 학습률=%.3f, 오류=%.3f' % (epoch, l_rate, sum_error))\n",
        "    return weights\n",
        "\n",
        "# AND 연산 학습 데이터셋, 샘플과 레이블이다.\n",
        "X = [[0,0],[0,1],[1,0],[1,1]]\n",
        "y = [0, 0, 0, 1]\n",
        "\n",
        "# 가중치와 바이어스 초기값\n",
        "weights = [0.0, 0.0]\n",
        "bias = 0.0\n",
        "\n",
        "l_rate = 0.1 # 학습률\n",
        "n_epoch = 5 # 에포크 횟수\n",
        "weights = train_weights(X, y, l_rate, n_epoch)\n",
        "print(weights, bias)\n"
      ],
      "metadata": {
        "colab": {
          "base_uri": "https://localhost:8080/"
        },
        "id": "4dWFO8MuZBTO",
        "outputId": "6cb40846-23d6-4136-cc66-efbb24cd98ea"
      },
      "execution_count": null,
      "outputs": [
        {
          "output_type": "stream",
          "name": "stdout",
          "text": [
            "[0.0, 0.0] -0.1\n",
            "[0.0, 0.0] -0.1\n",
            "[0.0, 0.0] -0.1\n",
            "[0.1, 0.1] 0.0\n",
            "에포크 번호=0, 학습률=0.100, 오류=2.000\n",
            "[0.1, 0.1] -0.1\n",
            "[0.1, 0.0] -0.2\n",
            "[0.1, 0.0] -0.2\n",
            "[0.2, 0.1] -0.1\n",
            "에포크 번호=1, 학습률=0.100, 오류=3.000\n",
            "[0.2, 0.1] -0.1\n",
            "[0.2, 0.0] -0.2\n",
            "[0.1, 0.0] -0.30000000000000004\n",
            "[0.2, 0.1] -0.20000000000000004\n",
            "에포크 번호=2, 학습률=0.100, 오류=3.000\n",
            "[0.2, 0.1] -0.20000000000000004\n",
            "[0.2, 0.1] -0.20000000000000004\n",
            "[0.2, 0.1] -0.20000000000000004\n",
            "[0.2, 0.1] -0.20000000000000004\n",
            "에포크 번호=3, 학습률=0.100, 오류=0.000\n",
            "[0.2, 0.1] -0.20000000000000004\n",
            "[0.2, 0.1] -0.20000000000000004\n",
            "[0.2, 0.1] -0.20000000000000004\n",
            "[0.2, 0.1] -0.20000000000000004\n",
            "에포크 번호=4, 학습률=0.100, 오류=0.000\n",
            "[0.2, 0.1] -0.20000000000000004\n"
          ]
        }
      ]
    }
  ]
}